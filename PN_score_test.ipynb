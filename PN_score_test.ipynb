{
 "cells": [
  {
   "cell_type": "markdown",
   "metadata": {},
   "source": [
    "# 単語のポジネガによるテキストランキング"
   ]
  },
  {
   "cell_type": "markdown",
   "metadata": {},
   "source": [
    "## 参考"
   ]
  },
  {
   "cell_type": "markdown",
   "metadata": {},
   "source": [
    "http://www.statsbeginner.net/entry/2017/05/07/091435  \n",
    "http://www.lr.pi.titech.ac.jp/~takamura/pndic_ja.html"
   ]
  },
  {
   "cell_type": "code",
   "execution_count": 3,
   "metadata": {
    "collapsed": true
   },
   "outputs": [],
   "source": [
    "# -*- coding: utf-8 -*-\n",
    "import re\n",
    "import csv\n",
    "import time\n",
    "import pandas as pd\n",
    "import matplotlib.pyplot as plt\n",
    "import MeCab\n",
    "mecab = MeCab.Tagger(' -d /usr/local/lib/mecab/dic/mecab-ipadic-neologd')\n",
    "mecab.parse(\"\")  # 追加\n",
    "import random\n",
    "from statistics import mean, median,variance,stdev\n",
    "import numpy as np"
   ]
  },
  {
   "cell_type": "code",
   "execution_count": 4,
   "metadata": {
    "collapsed": true
   },
   "outputs": [],
   "source": [
    "# PN Tableを読み込み\n",
    "# パスは各自適当なものになります\n",
    "pn_df = pd.read_csv('PN_dict/pn_ja.txt',\\\n",
    "                    sep=':',\n",
    "                    encoding='utf-8',\n",
    "                    names=('Word','Reading','POS', 'PN')\n",
    "                   )\n",
    "\n",
    "# PN Tableをデータフレームからdict型に変換しておく\n",
    "word_list = list(pn_df['Word'])\n",
    "pn_list = list(pn_df['PN'])  # 中身の型はnumpy.float64\n",
    "pn_dict = dict(zip(word_list, pn_list))"
   ]
  },
  {
   "cell_type": "code",
   "execution_count": 5,
   "metadata": {
    "scrolled": true
   },
   "outputs": [
    {
     "data": {
      "text/html": [
       "<div>\n",
       "<style>\n",
       "    .dataframe thead tr:only-child th {\n",
       "        text-align: right;\n",
       "    }\n",
       "\n",
       "    .dataframe thead th {\n",
       "        text-align: left;\n",
       "    }\n",
       "\n",
       "    .dataframe tbody tr th {\n",
       "        vertical-align: top;\n",
       "    }\n",
       "</style>\n",
       "<table border=\"1\" class=\"dataframe\">\n",
       "  <thead>\n",
       "    <tr style=\"text-align: right;\">\n",
       "      <th></th>\n",
       "      <th>Word</th>\n",
       "      <th>Reading</th>\n",
       "      <th>POS</th>\n",
       "      <th>PN</th>\n",
       "    </tr>\n",
       "  </thead>\n",
       "  <tbody>\n",
       "    <tr>\n",
       "      <th>0</th>\n",
       "      <td>優れる</td>\n",
       "      <td>すぐれる</td>\n",
       "      <td>動詞</td>\n",
       "      <td>1.000000</td>\n",
       "    </tr>\n",
       "    <tr>\n",
       "      <th>1</th>\n",
       "      <td>良い</td>\n",
       "      <td>よい</td>\n",
       "      <td>形容詞</td>\n",
       "      <td>0.999995</td>\n",
       "    </tr>\n",
       "    <tr>\n",
       "      <th>2</th>\n",
       "      <td>喜ぶ</td>\n",
       "      <td>よろこぶ</td>\n",
       "      <td>動詞</td>\n",
       "      <td>0.999979</td>\n",
       "    </tr>\n",
       "    <tr>\n",
       "      <th>3</th>\n",
       "      <td>褒める</td>\n",
       "      <td>ほめる</td>\n",
       "      <td>動詞</td>\n",
       "      <td>0.999979</td>\n",
       "    </tr>\n",
       "    <tr>\n",
       "      <th>4</th>\n",
       "      <td>めでたい</td>\n",
       "      <td>めでたい</td>\n",
       "      <td>形容詞</td>\n",
       "      <td>0.999645</td>\n",
       "    </tr>\n",
       "    <tr>\n",
       "      <th>5</th>\n",
       "      <td>賢い</td>\n",
       "      <td>かしこい</td>\n",
       "      <td>形容詞</td>\n",
       "      <td>0.999486</td>\n",
       "    </tr>\n",
       "    <tr>\n",
       "      <th>6</th>\n",
       "      <td>善い</td>\n",
       "      <td>いい</td>\n",
       "      <td>形容詞</td>\n",
       "      <td>0.999314</td>\n",
       "    </tr>\n",
       "    <tr>\n",
       "      <th>7</th>\n",
       "      <td>適す</td>\n",
       "      <td>てきす</td>\n",
       "      <td>動詞</td>\n",
       "      <td>0.999295</td>\n",
       "    </tr>\n",
       "    <tr>\n",
       "      <th>8</th>\n",
       "      <td>天晴</td>\n",
       "      <td>あっぱれ</td>\n",
       "      <td>名詞</td>\n",
       "      <td>0.999267</td>\n",
       "    </tr>\n",
       "    <tr>\n",
       "      <th>9</th>\n",
       "      <td>祝う</td>\n",
       "      <td>いわう</td>\n",
       "      <td>動詞</td>\n",
       "      <td>0.999122</td>\n",
       "    </tr>\n",
       "    <tr>\n",
       "      <th>10</th>\n",
       "      <td>功績</td>\n",
       "      <td>こうせき</td>\n",
       "      <td>名詞</td>\n",
       "      <td>0.999104</td>\n",
       "    </tr>\n",
       "    <tr>\n",
       "      <th>11</th>\n",
       "      <td>賞</td>\n",
       "      <td>しょう</td>\n",
       "      <td>名詞</td>\n",
       "      <td>0.998943</td>\n",
       "    </tr>\n",
       "    <tr>\n",
       "      <th>12</th>\n",
       "      <td>嬉しい</td>\n",
       "      <td>うれしい</td>\n",
       "      <td>形容詞</td>\n",
       "      <td>0.998871</td>\n",
       "    </tr>\n",
       "    <tr>\n",
       "      <th>13</th>\n",
       "      <td>喜び</td>\n",
       "      <td>よろこび</td>\n",
       "      <td>名詞</td>\n",
       "      <td>0.998861</td>\n",
       "    </tr>\n",
       "    <tr>\n",
       "      <th>14</th>\n",
       "      <td>才知</td>\n",
       "      <td>さいち</td>\n",
       "      <td>名詞</td>\n",
       "      <td>0.998771</td>\n",
       "    </tr>\n",
       "    <tr>\n",
       "      <th>15</th>\n",
       "      <td>徳</td>\n",
       "      <td>とく</td>\n",
       "      <td>名詞</td>\n",
       "      <td>0.998745</td>\n",
       "    </tr>\n",
       "    <tr>\n",
       "      <th>16</th>\n",
       "      <td>才能</td>\n",
       "      <td>さいのう</td>\n",
       "      <td>名詞</td>\n",
       "      <td>0.998699</td>\n",
       "    </tr>\n",
       "    <tr>\n",
       "      <th>17</th>\n",
       "      <td>素晴らしい</td>\n",
       "      <td>すばらしい</td>\n",
       "      <td>形容詞</td>\n",
       "      <td>0.998617</td>\n",
       "    </tr>\n",
       "    <tr>\n",
       "      <th>18</th>\n",
       "      <td>芳しい</td>\n",
       "      <td>かんばしい</td>\n",
       "      <td>形容詞</td>\n",
       "      <td>0.998578</td>\n",
       "    </tr>\n",
       "    <tr>\n",
       "      <th>19</th>\n",
       "      <td>称える</td>\n",
       "      <td>たたえる</td>\n",
       "      <td>動詞</td>\n",
       "      <td>0.998576</td>\n",
       "    </tr>\n",
       "    <tr>\n",
       "      <th>20</th>\n",
       "      <td>適切</td>\n",
       "      <td>てきせつ</td>\n",
       "      <td>名詞</td>\n",
       "      <td>0.998406</td>\n",
       "    </tr>\n",
       "    <tr>\n",
       "      <th>21</th>\n",
       "      <td>崇める</td>\n",
       "      <td>あがめる</td>\n",
       "      <td>動詞</td>\n",
       "      <td>0.998357</td>\n",
       "    </tr>\n",
       "    <tr>\n",
       "      <th>22</th>\n",
       "      <td>助ける</td>\n",
       "      <td>たすける</td>\n",
       "      <td>動詞</td>\n",
       "      <td>0.998356</td>\n",
       "    </tr>\n",
       "    <tr>\n",
       "      <th>23</th>\n",
       "      <td>抜きんでる</td>\n",
       "      <td>ぬきんでる</td>\n",
       "      <td>動詞</td>\n",
       "      <td>0.998356</td>\n",
       "    </tr>\n",
       "    <tr>\n",
       "      <th>24</th>\n",
       "      <td>清水</td>\n",
       "      <td>せいすい</td>\n",
       "      <td>名詞</td>\n",
       "      <td>0.998356</td>\n",
       "    </tr>\n",
       "    <tr>\n",
       "      <th>25</th>\n",
       "      <td>雄雄しい</td>\n",
       "      <td>おおしい</td>\n",
       "      <td>形容詞</td>\n",
       "      <td>0.998272</td>\n",
       "    </tr>\n",
       "    <tr>\n",
       "      <th>26</th>\n",
       "      <td>仕合せ</td>\n",
       "      <td>しあわせ</td>\n",
       "      <td>名詞</td>\n",
       "      <td>0.998208</td>\n",
       "    </tr>\n",
       "    <tr>\n",
       "      <th>27</th>\n",
       "      <td>幸い</td>\n",
       "      <td>さいわい</td>\n",
       "      <td>名詞</td>\n",
       "      <td>0.997862</td>\n",
       "    </tr>\n",
       "    <tr>\n",
       "      <th>28</th>\n",
       "      <td>吉兆</td>\n",
       "      <td>きっちょう</td>\n",
       "      <td>名詞</td>\n",
       "      <td>0.997795</td>\n",
       "    </tr>\n",
       "    <tr>\n",
       "      <th>29</th>\n",
       "      <td>秀でる</td>\n",
       "      <td>ひいでる</td>\n",
       "      <td>動詞</td>\n",
       "      <td>0.997777</td>\n",
       "    </tr>\n",
       "    <tr>\n",
       "      <th>...</th>\n",
       "      <td>...</td>\n",
       "      <td>...</td>\n",
       "      <td>...</td>\n",
       "      <td>...</td>\n",
       "    </tr>\n",
       "    <tr>\n",
       "      <th>55095</th>\n",
       "      <td>下らない</td>\n",
       "      <td>くだらない</td>\n",
       "      <td>形容詞</td>\n",
       "      <td>-0.999355</td>\n",
       "    </tr>\n",
       "    <tr>\n",
       "      <th>55096</th>\n",
       "      <td>寒い</td>\n",
       "      <td>さむい</td>\n",
       "      <td>形容詞</td>\n",
       "      <td>-0.999383</td>\n",
       "    </tr>\n",
       "    <tr>\n",
       "      <th>55097</th>\n",
       "      <td>不貞腐る</td>\n",
       "      <td>ふてくさる</td>\n",
       "      <td>動詞</td>\n",
       "      <td>-0.999430</td>\n",
       "    </tr>\n",
       "    <tr>\n",
       "      <th>55098</th>\n",
       "      <td>罰</td>\n",
       "      <td>ばつ</td>\n",
       "      <td>名詞</td>\n",
       "      <td>-0.999430</td>\n",
       "    </tr>\n",
       "    <tr>\n",
       "      <th>55099</th>\n",
       "      <td>物寂しい</td>\n",
       "      <td>ものさびしい</td>\n",
       "      <td>形容詞</td>\n",
       "      <td>-0.999457</td>\n",
       "    </tr>\n",
       "    <tr>\n",
       "      <th>55100</th>\n",
       "      <td>辛い</td>\n",
       "      <td>つらい</td>\n",
       "      <td>形容詞</td>\n",
       "      <td>-0.999466</td>\n",
       "    </tr>\n",
       "    <tr>\n",
       "      <th>55101</th>\n",
       "      <td>苦しめる</td>\n",
       "      <td>くるしめる</td>\n",
       "      <td>動詞</td>\n",
       "      <td>-0.999484</td>\n",
       "    </tr>\n",
       "    <tr>\n",
       "      <th>55102</th>\n",
       "      <td>嘲る</td>\n",
       "      <td>あざける</td>\n",
       "      <td>動詞</td>\n",
       "      <td>-0.999499</td>\n",
       "    </tr>\n",
       "    <tr>\n",
       "      <th>55103</th>\n",
       "      <td>背く</td>\n",
       "      <td>そむく</td>\n",
       "      <td>動詞</td>\n",
       "      <td>-0.999531</td>\n",
       "    </tr>\n",
       "    <tr>\n",
       "      <th>55104</th>\n",
       "      <td>敵</td>\n",
       "      <td>てき</td>\n",
       "      <td>名詞</td>\n",
       "      <td>-0.999579</td>\n",
       "    </tr>\n",
       "    <tr>\n",
       "      <th>55105</th>\n",
       "      <td>責める</td>\n",
       "      <td>せめる</td>\n",
       "      <td>動詞</td>\n",
       "      <td>-0.999615</td>\n",
       "    </tr>\n",
       "    <tr>\n",
       "      <th>55106</th>\n",
       "      <td>惨い</td>\n",
       "      <td>むごい</td>\n",
       "      <td>形容詞</td>\n",
       "      <td>-0.999657</td>\n",
       "    </tr>\n",
       "    <tr>\n",
       "      <th>55107</th>\n",
       "      <td>荒荒しい</td>\n",
       "      <td>あらあらしい</td>\n",
       "      <td>形容詞</td>\n",
       "      <td>-0.999661</td>\n",
       "    </tr>\n",
       "    <tr>\n",
       "      <th>55108</th>\n",
       "      <td>難い</td>\n",
       "      <td>かたい</td>\n",
       "      <td>形容詞</td>\n",
       "      <td>-0.999667</td>\n",
       "    </tr>\n",
       "    <tr>\n",
       "      <th>55109</th>\n",
       "      <td>殺す</td>\n",
       "      <td>ころす</td>\n",
       "      <td>動詞</td>\n",
       "      <td>-0.999749</td>\n",
       "    </tr>\n",
       "    <tr>\n",
       "      <th>55110</th>\n",
       "      <td>難しい</td>\n",
       "      <td>むずかしい</td>\n",
       "      <td>形容詞</td>\n",
       "      <td>-0.999754</td>\n",
       "    </tr>\n",
       "    <tr>\n",
       "      <th>55111</th>\n",
       "      <td>厳しい</td>\n",
       "      <td>きびしい</td>\n",
       "      <td>形容詞</td>\n",
       "      <td>-0.999755</td>\n",
       "    </tr>\n",
       "    <tr>\n",
       "      <th>55112</th>\n",
       "      <td>付く</td>\n",
       "      <td>つく</td>\n",
       "      <td>動詞</td>\n",
       "      <td>-0.999763</td>\n",
       "    </tr>\n",
       "    <tr>\n",
       "      <th>55113</th>\n",
       "      <td>苦しい</td>\n",
       "      <td>くるしい</td>\n",
       "      <td>形容詞</td>\n",
       "      <td>-0.999788</td>\n",
       "    </tr>\n",
       "    <tr>\n",
       "      <th>55114</th>\n",
       "      <td>苦しむ</td>\n",
       "      <td>くるしむ</td>\n",
       "      <td>動詞</td>\n",
       "      <td>-0.999805</td>\n",
       "    </tr>\n",
       "    <tr>\n",
       "      <th>55115</th>\n",
       "      <td>下手</td>\n",
       "      <td>へた</td>\n",
       "      <td>名詞</td>\n",
       "      <td>-0.999831</td>\n",
       "    </tr>\n",
       "    <tr>\n",
       "      <th>55116</th>\n",
       "      <td>卑しい</td>\n",
       "      <td>いやしい</td>\n",
       "      <td>形容詞</td>\n",
       "      <td>-0.999860</td>\n",
       "    </tr>\n",
       "    <tr>\n",
       "      <th>55117</th>\n",
       "      <td>ない</td>\n",
       "      <td>ない</td>\n",
       "      <td>形容詞</td>\n",
       "      <td>-0.999882</td>\n",
       "    </tr>\n",
       "    <tr>\n",
       "      <th>55118</th>\n",
       "      <td>浸ける</td>\n",
       "      <td>つける</td>\n",
       "      <td>動詞</td>\n",
       "      <td>-0.999947</td>\n",
       "    </tr>\n",
       "    <tr>\n",
       "      <th>55119</th>\n",
       "      <td>罵る</td>\n",
       "      <td>ののしる</td>\n",
       "      <td>動詞</td>\n",
       "      <td>-0.999961</td>\n",
       "    </tr>\n",
       "    <tr>\n",
       "      <th>55120</th>\n",
       "      <td>ない</td>\n",
       "      <td>ない</td>\n",
       "      <td>助動詞</td>\n",
       "      <td>-0.999997</td>\n",
       "    </tr>\n",
       "    <tr>\n",
       "      <th>55121</th>\n",
       "      <td>酷い</td>\n",
       "      <td>ひどい</td>\n",
       "      <td>形容詞</td>\n",
       "      <td>-0.999997</td>\n",
       "    </tr>\n",
       "    <tr>\n",
       "      <th>55122</th>\n",
       "      <td>病気</td>\n",
       "      <td>びょうき</td>\n",
       "      <td>名詞</td>\n",
       "      <td>-0.999998</td>\n",
       "    </tr>\n",
       "    <tr>\n",
       "      <th>55123</th>\n",
       "      <td>死ぬ</td>\n",
       "      <td>しぬ</td>\n",
       "      <td>動詞</td>\n",
       "      <td>-0.999999</td>\n",
       "    </tr>\n",
       "    <tr>\n",
       "      <th>55124</th>\n",
       "      <td>悪い</td>\n",
       "      <td>わるい</td>\n",
       "      <td>形容詞</td>\n",
       "      <td>-1.000000</td>\n",
       "    </tr>\n",
       "  </tbody>\n",
       "</table>\n",
       "<p>55125 rows × 4 columns</p>\n",
       "</div>"
      ],
      "text/plain": [
       "        Word Reading  POS        PN\n",
       "0        優れる    すぐれる   動詞  1.000000\n",
       "1         良い      よい  形容詞  0.999995\n",
       "2         喜ぶ    よろこぶ   動詞  0.999979\n",
       "3        褒める     ほめる   動詞  0.999979\n",
       "4       めでたい    めでたい  形容詞  0.999645\n",
       "5         賢い    かしこい  形容詞  0.999486\n",
       "6         善い      いい  形容詞  0.999314\n",
       "7         適す     てきす   動詞  0.999295\n",
       "8         天晴    あっぱれ   名詞  0.999267\n",
       "9         祝う     いわう   動詞  0.999122\n",
       "10        功績    こうせき   名詞  0.999104\n",
       "11         賞     しょう   名詞  0.998943\n",
       "12       嬉しい    うれしい  形容詞  0.998871\n",
       "13        喜び    よろこび   名詞  0.998861\n",
       "14        才知     さいち   名詞  0.998771\n",
       "15         徳      とく   名詞  0.998745\n",
       "16        才能    さいのう   名詞  0.998699\n",
       "17     素晴らしい   すばらしい  形容詞  0.998617\n",
       "18       芳しい   かんばしい  形容詞  0.998578\n",
       "19       称える    たたえる   動詞  0.998576\n",
       "20        適切    てきせつ   名詞  0.998406\n",
       "21       崇める    あがめる   動詞  0.998357\n",
       "22       助ける    たすける   動詞  0.998356\n",
       "23     抜きんでる   ぬきんでる   動詞  0.998356\n",
       "24        清水    せいすい   名詞  0.998356\n",
       "25      雄雄しい    おおしい  形容詞  0.998272\n",
       "26       仕合せ    しあわせ   名詞  0.998208\n",
       "27        幸い    さいわい   名詞  0.997862\n",
       "28        吉兆   きっちょう   名詞  0.997795\n",
       "29       秀でる    ひいでる   動詞  0.997777\n",
       "...      ...     ...  ...       ...\n",
       "55095   下らない   くだらない  形容詞 -0.999355\n",
       "55096     寒い     さむい  形容詞 -0.999383\n",
       "55097   不貞腐る   ふてくさる   動詞 -0.999430\n",
       "55098      罰      ばつ   名詞 -0.999430\n",
       "55099   物寂しい  ものさびしい  形容詞 -0.999457\n",
       "55100     辛い     つらい  形容詞 -0.999466\n",
       "55101   苦しめる   くるしめる   動詞 -0.999484\n",
       "55102     嘲る    あざける   動詞 -0.999499\n",
       "55103     背く     そむく   動詞 -0.999531\n",
       "55104      敵      てき   名詞 -0.999579\n",
       "55105    責める     せめる   動詞 -0.999615\n",
       "55106     惨い     むごい  形容詞 -0.999657\n",
       "55107   荒荒しい  あらあらしい  形容詞 -0.999661\n",
       "55108     難い     かたい  形容詞 -0.999667\n",
       "55109     殺す     ころす   動詞 -0.999749\n",
       "55110    難しい   むずかしい  形容詞 -0.999754\n",
       "55111    厳しい    きびしい  形容詞 -0.999755\n",
       "55112     付く      つく   動詞 -0.999763\n",
       "55113    苦しい    くるしい  形容詞 -0.999788\n",
       "55114    苦しむ    くるしむ   動詞 -0.999805\n",
       "55115     下手      へた   名詞 -0.999831\n",
       "55116    卑しい    いやしい  形容詞 -0.999860\n",
       "55117     ない      ない  形容詞 -0.999882\n",
       "55118    浸ける     つける   動詞 -0.999947\n",
       "55119     罵る    ののしる   動詞 -0.999961\n",
       "55120     ない      ない  助動詞 -0.999997\n",
       "55121     酷い     ひどい  形容詞 -0.999997\n",
       "55122     病気    びょうき   名詞 -0.999998\n",
       "55123     死ぬ      しぬ   動詞 -0.999999\n",
       "55124     悪い     わるい  形容詞 -1.000000\n",
       "\n",
       "[55125 rows x 4 columns]"
      ]
     },
     "execution_count": 5,
     "metadata": {},
     "output_type": "execute_result"
    }
   ],
   "source": [
    "pn_df"
   ]
  },
  {
   "cell_type": "code",
   "execution_count": 6,
   "metadata": {
    "collapsed": true
   },
   "outputs": [],
   "source": [
    "def get_diclist(text):\n",
    "    if '、' in text:\n",
    "        text = text.replace('、', '')\n",
    "    \n",
    "    parsed = mecab.parse(text)      # 形態素解析結果（改行を含む文字列として得られる）\n",
    "    lines = parsed.split('\\n')  # 解析結果を1行（1語）ごとに分けてリストにする\n",
    "    lines = lines[0:-2]         # 後ろ2行は不要なので削除\n",
    "    diclist = []\n",
    "    for word in lines:\n",
    "        l = re.split('\\t|,',word)  # 各行はタブとカンマで区切られてるので\n",
    "        if not l[1] == '助詞' and not l[1] == '記号' and not l[1] == '助動詞' and not l[7] == '*':\n",
    "            d = {'Surface':l[0], 'POS1':l[1], 'POS2':l[2], 'BaseForm':l[7]}\n",
    "            diclist.append(d)\n",
    "    return(diclist)"
   ]
  },
  {
   "cell_type": "code",
   "execution_count": 7,
   "metadata": {
    "collapsed": true
   },
   "outputs": [],
   "source": [
    "# 形態素解析結果の単語ごとdictデータにPN値を追加する関数\n",
    "def add_pnvalue(diclist_old):\n",
    "    diclist_new = []\n",
    "    for word in diclist_old:\n",
    "        base = word['BaseForm']        # 個々の辞書から基本形を取得\n",
    "        if base in pn_dict:\n",
    "            pn = float(pn_dict[base])  # 中身の型があれなので\n",
    "        else:\n",
    "            pn = 'notfound'            # その語がPN Tableになかった場合\n",
    "        word['PN'] = pn\n",
    "        diclist_new.append(word)\n",
    "    return(diclist_new)"
   ]
  },
  {
   "cell_type": "code",
   "execution_count": 8,
   "metadata": {
    "collapsed": true
   },
   "outputs": [],
   "source": [
    "# 各ツイートのPN平均値をとる関数\n",
    "def get_pnmean(diclist):\n",
    "    pn_list = []\n",
    "    for word in diclist:\n",
    "        pn = word['PN']\n",
    "        if pn != 'notfound':\n",
    "            pn_list.append(pn)  # notfoundだった場合は追加もしない            \n",
    "    if len(pn_list) > 0:        # 「全部notfound」じゃなければ\n",
    "        pnmean = mean(pn_list)\n",
    "    else:\n",
    "        pnmean = 0              # 全部notfoundならゼロにする\n",
    "    return(pnmean)"
   ]
  },
  {
   "cell_type": "code",
   "execution_count": 9,
   "metadata": {
    "collapsed": true
   },
   "outputs": [],
   "source": [
    "# 各ツイートのPN平均値をとる関数\n",
    "def get_pnaverage(diclist):\n",
    "    pn_list = []\n",
    "    for word in diclist:\n",
    "        pn = word['PN']\n",
    "        if pn != 'notfound':\n",
    "            pn_list.append(pn)  # notfoundだった場合は追加もしない            \n",
    "    if len(pn_list) > 0:        # 「全部notfound」じゃなければ\n",
    "        pnmean = np.average(pn_list)\n",
    "    else:\n",
    "        pnmean = 0              # 全部notfoundならゼロにする\n",
    "    return(pnmean)"
   ]
  },
  {
   "cell_type": "code",
   "execution_count": 10,
   "metadata": {
    "collapsed": true
   },
   "outputs": [],
   "source": [
    "text_test = '昨日はラーメンを食べました．美味しかった．'"
   ]
  },
  {
   "cell_type": "code",
   "execution_count": 11,
   "metadata": {},
   "outputs": [
    {
     "data": {
      "text/plain": [
       "'昨日はラーメンを食べました．美味しかった．'"
      ]
     },
     "execution_count": 11,
     "metadata": {},
     "output_type": "execute_result"
    }
   ],
   "source": [
    "text_test"
   ]
  },
  {
   "cell_type": "markdown",
   "metadata": {},
   "source": [
    "テキストデータから **「助詞」「助動詞」「記号」以外の単語（日本語）** に対して形態素解析"
   ]
  },
  {
   "cell_type": "code",
   "execution_count": 12,
   "metadata": {},
   "outputs": [
    {
     "data": {
      "text/plain": [
       "[{'BaseForm': '昨日', 'POS1': '名詞', 'POS2': '副詞可能', 'Surface': '昨日'},\n",
       " {'BaseForm': 'ラーメン', 'POS1': '名詞', 'POS2': '一般', 'Surface': 'ラーメン'},\n",
       " {'BaseForm': '食べる', 'POS1': '動詞', 'POS2': '自立', 'Surface': '食べ'},\n",
       " {'BaseForm': '美味しい', 'POS1': '形容詞', 'POS2': '自立', 'Surface': '美味しかっ'}]"
      ]
     },
     "execution_count": 12,
     "metadata": {},
     "output_type": "execute_result"
    }
   ],
   "source": [
    "get_diclist(text_test)"
   ]
  },
  {
   "cell_type": "markdown",
   "metadata": {},
   "source": [
    "各単語の **PN値** を取得する"
   ]
  },
  {
   "cell_type": "code",
   "execution_count": 13,
   "metadata": {
    "collapsed": true
   },
   "outputs": [],
   "source": [
    "dl_test = get_diclist(text_test)"
   ]
  },
  {
   "cell_type": "code",
   "execution_count": 14,
   "metadata": {
    "scrolled": true
   },
   "outputs": [
    {
     "data": {
      "text/plain": [
       "[{'BaseForm': '昨日',\n",
       "  'PN': -0.368417,\n",
       "  'POS1': '名詞',\n",
       "  'POS2': '副詞可能',\n",
       "  'Surface': '昨日'},\n",
       " {'BaseForm': 'ラーメン',\n",
       "  'PN': -0.293937,\n",
       "  'POS1': '名詞',\n",
       "  'POS2': '一般',\n",
       "  'Surface': 'ラーメン'},\n",
       " {'BaseForm': '食べる',\n",
       "  'PN': -0.9683370000000001,\n",
       "  'POS1': '動詞',\n",
       "  'POS2': '自立',\n",
       "  'Surface': '食べ'},\n",
       " {'BaseForm': '美味しい',\n",
       "  'PN': 0.99136,\n",
       "  'POS1': '形容詞',\n",
       "  'POS2': '自立',\n",
       "  'Surface': '美味しかっ'}]"
      ]
     },
     "execution_count": 14,
     "metadata": {},
     "output_type": "execute_result"
    }
   ],
   "source": [
    "add_pnvalue(dl_test)"
   ]
  },
  {
   "cell_type": "markdown",
   "metadata": {},
   "source": [
    "各単語の **PN値の平均** をとってテキストのスコアとする"
   ]
  },
  {
   "cell_type": "code",
   "execution_count": 15,
   "metadata": {
    "collapsed": true
   },
   "outputs": [],
   "source": [
    "dl_test = add_pnvalue(dl_test)"
   ]
  },
  {
   "cell_type": "code",
   "execution_count": 16,
   "metadata": {},
   "outputs": [
    {
     "data": {
      "text/plain": [
       "-0.15983275000000002"
      ]
     },
     "execution_count": 16,
     "metadata": {},
     "output_type": "execute_result"
    }
   ],
   "source": [
    "get_pnmean(dl_test)"
   ]
  },
  {
   "cell_type": "code",
   "execution_count": 17,
   "metadata": {},
   "outputs": [
    {
     "data": {
      "text/plain": [
       "-0.15983275000000002"
      ]
     },
     "execution_count": 17,
     "metadata": {},
     "output_type": "execute_result"
    }
   ],
   "source": [
    "get_pnaverage(dl_test)"
   ]
  },
  {
   "cell_type": "markdown",
   "metadata": {},
   "source": [
    "## スコアによってテキストをランク付けする"
   ]
  },
  {
   "cell_type": "code",
   "execution_count": 18,
   "metadata": {
    "collapsed": true
   },
   "outputs": [],
   "source": [
    "text_list = [\n",
    "    '昨日はラーメンを食べました．美味しかった．',\n",
    "    '明日は晴れるといいな',\n",
    "    '10日放送の「中居正広のミになる図書館」（テレビ朝日系）で、SMAPの中居正広が、篠原信一の過去の勘違いを明かす一幕があった'\n",
    "]"
   ]
  },
  {
   "cell_type": "code",
   "execution_count": 19,
   "metadata": {},
   "outputs": [
    {
     "data": {
      "text/plain": [
       "['昨日はラーメンを食べました．美味しかった．',\n",
       " '明日は晴れるといいな',\n",
       " '10日放送の「中居正広のミになる図書館」（テレビ朝日系）で、SMAPの中居正広が、篠原信一の過去の勘違いを明かす一幕があった']"
      ]
     },
     "execution_count": 19,
     "metadata": {},
     "output_type": "execute_result"
    }
   ],
   "source": [
    "text_list"
   ]
  },
  {
   "cell_type": "code",
   "execution_count": 20,
   "metadata": {},
   "outputs": [
    {
     "name": "stdout",
     "output_type": "stream",
     "text": [
      "明日は晴れるといいな\n",
      "0.19169049999999999\n",
      "\n",
      "昨日はラーメンを食べました．美味しかった．\n",
      "-0.15983275000000002\n",
      "\n",
      "10日放送の「中居正広のミになる図書館」（テレビ朝日系）で、SMAPの中居正広が、篠原信一の過去の勘違いを明かす一幕があった\n",
      "-0.561006\n",
      "\n"
     ]
    }
   ],
   "source": [
    "pn_text_dict = {}\n",
    "\n",
    "for text in text_list:\n",
    "    dl_test = get_diclist(text)\n",
    "    dl_test = add_pnvalue(dl_test)\n",
    "    score = get_pnmean(dl_test)\n",
    "    \n",
    "    pn_text_dict[text] = score\n",
    "    \n",
    "pn_text_dict = sorted(pn_text_dict.items(), key=lambda x: -x[1])\n",
    "\n",
    "for k, v in pn_text_dict:\n",
    "    print(str(k))\n",
    "    print(str(v))\n",
    "    print()"
   ]
  },
  {
   "cell_type": "markdown",
   "metadata": {},
   "source": [
    "# 問題点"
   ]
  },
  {
   "cell_type": "markdown",
   "metadata": {},
   "source": [
    "* 辞書に大きく依存する（今回使用したのは自動生成された辞書）\n",
    "* 適切な文を断定することはできない（あくまでランク付けした結果を提示）"
   ]
  },
  {
   "cell_type": "code",
   "execution_count": null,
   "metadata": {
    "collapsed": true
   },
   "outputs": [],
   "source": []
  }
 ],
 "metadata": {
  "kernelspec": {
   "display_name": "Python 3",
   "language": "python",
   "name": "python3"
  },
  "language_info": {
   "codemirror_mode": {
    "name": "ipython",
    "version": 3
   },
   "file_extension": ".py",
   "mimetype": "text/x-python",
   "name": "python",
   "nbconvert_exporter": "python",
   "pygments_lexer": "ipython3",
   "version": "3.6.1"
  }
 },
 "nbformat": 4,
 "nbformat_minor": 2
}
